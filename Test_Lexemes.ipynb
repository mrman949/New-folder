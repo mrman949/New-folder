{
 "cells": [
  {
   "cell_type": "code",
   "execution_count": 1,
   "source": [
    "from Lexer.Lexemes.Lexemes import *"
   ],
   "outputs": [],
   "metadata": {}
  },
  {
   "cell_type": "code",
   "execution_count": 2,
   "source": [
    "lexemes = [\r\n",
    "    Lxm_Op_Power,Lxm_Op_Int_Division,Lxm_Op_Bitshift_Right,Lxm_Op_Bitshift_Left,Lxm_Op_And,Lxm_Op_Or,Lxm_Op_Not_Equal,Lxm_Op_Double_Equal,Lxm_Op_Less_Equal,Lxm_Op_Greater_Equal,\r\n",
    "    Lxm_Op_Add,Lxm_Op_Subtract,Lxm_Op_Multiply,Lxm_Op_Division,Lxm_Op_Modulo,Lxm_Op_Bitwise_And,Lxm_Op_Bitwise_Or,Lxm_Op_Bitwise_Xor,Lxm_Op_Bitwise_Not,Lxm_Op_Not,Lxm_Op_Less,Lxm_Op_Greater,Lxm_Op_Equal,\r\n",
    "    Lxm_Close_Paren_Open,Lxm_Close_Paren_Close,Lxm_Close_Square_Open,Lxm_Close_Square_Close,Lxm_Close_Curly_Open,Lxm_Close_Curly_Close,\r\n",
    "    Lxm_Keywords_If,Lxm_Keywords_Else,Lxm_Keywords_While,\r\n",
    "    Lxm_Function_Log,Lxm_Function_Print,Lxm_Function_To_Int,Lxm_Function_To_Float,Lxm_Function_To_Bool,Lxm_Function_To_String,\r\n",
    "    Lxm_Line_End,\r\n",
    "]\r\n",
    "lexemes = [l() for l in lexemes]\r\n",
    "tests = [l.get_token() for l in lexemes]\r\n",
    "print(tests)"
   ],
   "outputs": [
    {
     "output_type": "stream",
     "name": "stdout",
     "text": [
      "['**', '//', '>>', '<<', '&&', '||', '!=', '==', '<=', '>=', '+', '-', '*', '/', '%', '&', '|', '^', '~', '!', '<', '>', '=', '(', ')', '[', ']', '{', '}', 'if', 'else', 'while', 'log', 'print', 'to_int', 'to_float', 'to_bool', 'to_string', ';']\n"
     ]
    }
   ],
   "metadata": {}
  },
  {
   "cell_type": "code",
   "execution_count": 3,
   "source": [
    "def feed_lexemes(input_string, lexemes):\r\n",
    "    char_stream = list(input_string)+[None]\r\n",
    "    \r\n",
    "    [l.reset() for l in lexemes]\r\n",
    "\r\n",
    "    next_char = char_stream.pop(0)\r\n",
    "    while next_char:\r\n",
    "        for lxm in lexemes:\r\n",
    "            lxm.feed(next_char)\r\n",
    "        next_char = char_stream.pop(0)\r\n",
    "\r\n",
    "    return [(l.get_token(), l.get_captured()) for l in lexemes if l.is_complete()]"
   ],
   "outputs": [],
   "metadata": {}
  },
  {
   "cell_type": "code",
   "execution_count": 4,
   "source": [
    "def test_lexemes(lexemes, tests):\r\n",
    "    for test in tests:\r\n",
    "        results = feed_lexemes(input_string=test, lexemes=lexemes)\r\n",
    "        print(\"test: {} \\t results: {}\".format(repr(test),results))\r\n"
   ],
   "outputs": [],
   "metadata": {}
  },
  {
   "cell_type": "code",
   "execution_count": 5,
   "source": [
    "test_lexemes(lexemes, tests)"
   ],
   "outputs": [
    {
     "output_type": "stream",
     "name": "stdout",
     "text": [
      "test: '**' \t results: [('**', '**'), ('*', '*')]\n",
      "test: '//' \t results: [('//', '//'), ('/', '/')]\n",
      "test: '>>' \t results: [('>>', '>>'), ('>', '>')]\n",
      "test: '<<' \t results: [('<<', '<<'), ('<', '<')]\n",
      "test: '&&' \t results: [('&&', '&&'), ('&', '&')]\n",
      "test: '||' \t results: [('||', '||'), ('|', '|')]\n",
      "test: '!=' \t results: [('!=', '!='), ('!', '!')]\n",
      "test: '==' \t results: [('==', '=='), ('=', '=')]\n",
      "test: '<=' \t results: [('<=', '<='), ('<', '<')]\n",
      "test: '>=' \t results: [('>=', '>='), ('>', '>')]\n",
      "test: '+' \t results: [('+', '+')]\n",
      "test: '-' \t results: [('-', '-')]\n",
      "test: '*' \t results: [('*', '*')]\n",
      "test: '/' \t results: [('/', '/')]\n",
      "test: '%' \t results: [('%', '%')]\n",
      "test: '&' \t results: [('&', '&')]\n",
      "test: '|' \t results: [('|', '|')]\n",
      "test: '^' \t results: [('^', '^')]\n",
      "test: '~' \t results: [('~', '~')]\n",
      "test: '!' \t results: [('!', '!')]\n",
      "test: '<' \t results: [('<', '<')]\n",
      "test: '>' \t results: [('>', '>')]\n",
      "test: '=' \t results: [('=', '=')]\n",
      "test: '(' \t results: [('(', '(')]\n",
      "test: ')' \t results: [(')', ')')]\n",
      "test: '[' \t results: [('[', '[')]\n",
      "test: ']' \t results: [(']', ']')]\n",
      "test: '{' \t results: [('{', '{')]\n",
      "test: '}' \t results: [('}', '}')]\n",
      "test: 'if' \t results: [('if', 'if')]\n",
      "test: 'else' \t results: [('else', 'else')]\n",
      "test: 'while' \t results: [('while', 'while')]\n",
      "test: 'log' \t results: [('log', 'log')]\n",
      "test: 'print' \t results: [('print', 'print')]\n",
      "test: 'to_int' \t results: [('to_int', 'to_int')]\n",
      "test: 'to_float' \t results: [('to_float', 'to_float')]\n",
      "test: 'to_bool' \t results: [('to_bool', 'to_bool')]\n",
      "test: 'to_string' \t results: [('to_string', 'to_string')]\n",
      "test: ';' \t results: [(';', ';')]\n"
     ]
    }
   ],
   "metadata": {}
  },
  {
   "cell_type": "code",
   "execution_count": 6,
   "source": [
    "int_lexeme = Lxm_Literals_Int()\r\n",
    "float_lexeme = Lxm_Literals_Float()\r\n",
    "bool_lexeme = Lxm_Literals_Bool()\r\n",
    "string_lexeme = Lxm_Literals_String()\r\n",
    "iden_lexeme = Lxm_Identifiers_Iden()\r\n",
    "comment_single_lexeme = Lxm_Comment_Single()\r\n",
    "comment_block_lexeme = Lxm_Comment_Block()"
   ],
   "outputs": [],
   "metadata": {}
  },
  {
   "cell_type": "code",
   "execution_count": 7,
   "source": [
    "lexemes = [\r\n",
    "    int_lexeme, float_lexeme, bool_lexeme,\r\n",
    "    string_lexeme, iden_lexeme,\r\n",
    "    comment_single_lexeme, comment_block_lexeme,\r\n",
    "]\r\n",
    "tests = [\r\n",
    "    '\"asdfsadfwefweuwhtu3t\"', '\"asdfsadfwefweu\\nwhtu3t\"',\r\n",
    "    \"123456\", \"-457645\", \"1\", \"--123\",\r\n",
    "    \".\", \"..\", \".*\", \"1*\",\r\n",
    "    \".07\", \"1.17\", \"12.\", \"-.89\", \"-134.23\", \"-1453.\", \".12.\", \"1.12.1\", \"--1453.\",\r\n",
    "    \"True\", \"False\",\r\n",
    "    \"Var_1\", \"_1var_1\",  \"__iden__\", \"__1234__\", \"12_var\",\r\n",
    "    \"# This is a comment\\n\", \"/*This is\\nalso a\\ncomment*/\", \"/* *** */\",\r\n",
    "]"
   ],
   "outputs": [],
   "metadata": {}
  },
  {
   "cell_type": "code",
   "execution_count": 8,
   "source": [
    "test_lexemes(lexemes, tests)"
   ],
   "outputs": [
    {
     "output_type": "stream",
     "name": "stdout",
     "text": [
      "test: '\"asdfsadfwefweuwhtu3t\"' \t results: [('\"*\"', '\"asdfsadfwefweuwhtu3t\"')]\n",
      "test: '\"asdfsadfwefweu\\nwhtu3t\"' \t results: [('\"*\"', '\"asdfsadfwefweu\\nwhtu3t\"')]\n",
      "test: '123456' \t results: [('int', '123456')]\n",
      "test: '-457645' \t results: [('int', '-457645')]\n",
      "test: '1' \t results: [('int', '1')]\n",
      "test: '--123' \t results: []\n",
      "test: '.' \t results: []\n",
      "test: '..' \t results: []\n",
      "test: '.*' \t results: []\n",
      "test: '1*' \t results: [('int', '1')]\n",
      "test: '.07' \t results: [('float', '.07')]\n",
      "test: '1.17' \t results: [('int', '1'), ('float', '1.17')]\n",
      "test: '12.' \t results: [('int', '12'), ('float', '12.')]\n",
      "test: '-.89' \t results: [('float', '-.89')]\n",
      "test: '-134.23' \t results: [('int', '-134'), ('float', '-134.23')]\n",
      "test: '-1453.' \t results: [('int', '-1453'), ('float', '-1453.')]\n",
      "test: '.12.' \t results: [('float', '.12')]\n",
      "test: '1.12.1' \t results: [('int', '1'), ('float', '1.12')]\n",
      "test: '--1453.' \t results: []\n",
      "test: 'True' \t results: [('bool', 'True'), ('iden', 'True')]\n",
      "test: 'False' \t results: [('bool', 'False'), ('iden', 'False')]\n",
      "test: 'Var_1' \t results: [('iden', 'Var_1')]\n",
      "test: '_1var_1' \t results: [('iden', '_1var_1')]\n",
      "test: '__iden__' \t results: [('iden', '__iden__')]\n",
      "test: '__1234__' \t results: [('iden', '__1234__')]\n",
      "test: '12_var' \t results: [('int', '12')]\n",
      "test: '# This is a comment\\n' \t results: [('comment', '# This is a comment')]\n",
      "test: '/*This is\\nalso a\\ncomment*/' \t results: [('comment', '/*This is\\nalso a\\ncomment*/')]\n",
      "test: '/* *** */' \t results: [('comment', '/* *** */')]\n"
     ]
    }
   ],
   "metadata": {}
  },
  {
   "cell_type": "code",
   "execution_count": 3,
   "source": [
    ")()"
   ],
   "outputs": [
    {
     "output_type": "error",
     "ename": "SyntaxError",
     "evalue": "unexpected EOF while parsing (Temp/ipykernel_2568/2561844748.py, line 1)",
     "traceback": [
      "\u001b[1;36m  File \u001b[1;32m\"C:\\Users\\jde314\\AppData\\Local\\Temp/ipykernel_2568/2561844748.py\"\u001b[1;36m, line \u001b[1;32m1\u001b[0m\n\u001b[1;33m    ()(\u001b[0m\n\u001b[1;37m       ^\u001b[0m\n\u001b[1;31mSyntaxError\u001b[0m\u001b[1;31m:\u001b[0m unexpected EOF while parsing\n"
     ]
    }
   ],
   "metadata": {}
  },
  {
   "cell_type": "code",
   "execution_count": null,
   "source": [],
   "outputs": [],
   "metadata": {}
  }
 ],
 "metadata": {
  "orig_nbformat": 4,
  "language_info": {
   "name": "python",
   "version": "3.7.8",
   "mimetype": "text/x-python",
   "codemirror_mode": {
    "name": "ipython",
    "version": 3
   },
   "pygments_lexer": "ipython3",
   "nbconvert_exporter": "python",
   "file_extension": ".py"
  },
  "kernelspec": {
   "name": "python3",
   "display_name": "Python 3.7.8 64-bit"
  },
  "interpreter": {
   "hash": "57baa5815c940fdaff4d14510622de9616cae602444507ba5d0b6727c008cbd6"
  }
 },
 "nbformat": 4,
 "nbformat_minor": 2
}