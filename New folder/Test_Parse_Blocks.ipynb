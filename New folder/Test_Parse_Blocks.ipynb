{
 "cells": [
  {
   "cell_type": "code",
   "execution_count": 1,
   "metadata": {},
   "outputs": [],
   "source": [
    "from Lexer.Lexer import Lexer\n",
    "from Parser.Parse_Blocks import Parse_Blocks\n",
    "from AST.AST_Nodes import Abstract_Syntax_Tree"
   ]
  },
  {
   "cell_type": "code",
   "execution_count": 2,
   "metadata": {},
   "outputs": [],
   "source": [
    "lexer = Lexer()"
   ]
  },
  {
   "cell_type": "code",
   "execution_count": 3,
   "metadata": {},
   "outputs": [
    {
     "name": "stdout",
     "output_type": "stream",
     "text": [
      "[Token(type: iden, string: i), Token(type: =, string: =), Token(type: int, string: 42), Token(type: ;, string: ;)] \n",
      "\n",
      "[Token(type: iden, string: j), Token(type: =, string: =), Token(type: int, string: 35), Token(type: ;, string: ;)] \n",
      "\n",
      "[Token(type: while, string: while), Token(type: (, string: (), Token(type: iden, string: i), Token(type: !=, string: !=), Token(type: iden, string: j), Token(type: ), string: )), Token(type: {, string: {), Token(type: if, string: if), Token(type: (, string: (), Token(type: iden, string: i), Token(type: >, string: >), Token(type: iden, string: j), Token(type: ), string: )), Token(type: {, string: {), Token(type: iden, string: i), Token(type: =, string: =), Token(type: iden, string: i), Token(type: -, string: -), Token(type: iden, string: j), Token(type: ;, string: ;), Token(type: }, string: }), Token(type: else, string: else), Token(type: {, string: {), Token(type: iden, string: j), Token(type: =, string: =), Token(type: iden, string: j), Token(type: -, string: -), Token(type: iden, string: i), Token(type: ;, string: ;), Token(type: }, string: }), Token(type: ;, string: ;), Token(type: }, string: }), Token(type: ;, string: ;)] \n",
      "\n",
      "[Token(type: print, string: print), Token(type: (, string: (), Token(type: string, string: i is equal to), Token(type: ), string: )), Token(type: ;, string: ;)] \n",
      "\n",
      "[Token(type: print, string: print), Token(type: (, string: (), Token(type: iden, string: i), Token(type: ), string: )), Token(type: ;, string: ;)] \n",
      "\n",
      "id: 1 \ttimes_walked: 1\n",
      "id: 2 \ttimes_walked: 1\n",
      "id: 3 \ttimes_walked: 1\n",
      "id: 4 \ttimes_walked: 1\n",
      "id: 5 \ttimes_walked: 1\n",
      "None\n",
      "{}\n"
     ]
    }
   ],
   "source": [
    "char_stream_2 = \"\"\"\n",
    "i = 42;\n",
    "j = 35;\n",
    "while (i != j){\n",
    "    if (i > j){\n",
    "        i = i - j;\n",
    "    } else {\n",
    "        j = j - i;\n",
    "    };\n",
    "};\n",
    "print(\"i is equal to\");\n",
    "print(i);\n",
    "\"\"\"\n",
    "\n",
    "tokens2 = lexer.match_tokens(char_stream_2)\n",
    "\n",
    "root = Parse_Blocks(tokens2)\n",
    "\n",
    "d, ns = Abstract_Syntax_Tree(root).walk()\n",
    "\n",
    "print(d.get_value())\n",
    "print(ns._name_space)"
   ]
  },
  {
   "cell_type": "code",
   "execution_count": null,
   "metadata": {},
   "outputs": [],
   "source": []
  }
 ],
 "metadata": {
  "interpreter": {
   "hash": "57baa5815c940fdaff4d14510622de9616cae602444507ba5d0b6727c008cbd6"
  },
  "kernelspec": {
   "display_name": "Python 3.7.8 64-bit",
   "name": "python3"
  },
  "language_info": {
   "codemirror_mode": {
    "name": "ipython",
    "version": 3
   },
   "file_extension": ".py",
   "mimetype": "text/x-python",
   "name": "python",
   "nbconvert_exporter": "python",
   "pygments_lexer": "ipython3",
   "version": "3.7.8"
  },
  "orig_nbformat": 4
 },
 "nbformat": 4,
 "nbformat_minor": 2
}
