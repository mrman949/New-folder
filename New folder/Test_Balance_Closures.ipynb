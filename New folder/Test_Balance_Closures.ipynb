{
 "cells": [
  {
   "cell_type": "code",
   "execution_count": 1,
   "source": [
    "from Parser.Balance_Closures import *\r\n",
    "from Lexer.Lexer import Lexer"
   ],
   "outputs": [],
   "metadata": {}
  },
  {
   "cell_type": "code",
   "execution_count": 2,
   "source": [
    "lexer = Lexer()"
   ],
   "outputs": [],
   "metadata": {}
  },
  {
   "cell_type": "code",
   "execution_count": 3,
   "source": [
    "char_stream_1 = \"\"\"\r\n",
    "x = -9;\r\n",
    "y = 3.0;\r\n",
    "print(True + x * y);\r\n",
    "\"\"\"\r\n",
    "\r\n",
    "tokens1 = lexer.match_tokens(char_stream_1)\r\n",
    "\r\n",
    "Balance_Closures(tokens1)\r\n",
    "\r\n",
    "### Expect no error"
   ],
   "outputs": [],
   "metadata": {}
  },
  {
   "cell_type": "code",
   "execution_count": 4,
   "source": [
    "char_stream_2 = \"\"\"\r\n",
    "i = 42;\r\n",
    "j = 35;\r\n",
    "while (i != j){\r\n",
    "    if (i > j){\r\n",
    "        i = i - j;\r\n",
    "    } else {\r\n",
    "        j = j - i;\r\n",
    "    };\r\n",
    "};\r\n",
    "print(\"i is equal to\");\r\n",
    "print(i);\r\n",
    "\"\"\"\r\n",
    "\r\n",
    "tokens2 = lexer.match_tokens(char_stream_2)\r\n",
    "\r\n",
    "Balance_Closures(tokens2)\r\n",
    "\r\n",
    "### Expect no error"
   ],
   "outputs": [],
   "metadata": {}
  },
  {
   "cell_type": "code",
   "execution_count": 5,
   "source": [
    "char_stream_3 = \"{)\"\r\n",
    "\r\n",
    "tokens3 = lexer.match_tokens(char_stream_3)\r\n",
    "\r\n",
    "Balance_Closures(tokens3)\r\n",
    "\r\n",
    "### Expect error SyntaxError: { cannot match with )"
   ],
   "outputs": [
    {
     "output_type": "error",
     "ename": "Parser_Syntax_Error",
     "evalue": "SyntaxError: { cannot match with )",
     "traceback": [
      "\u001b[1;31m---------------------------------------------------------------------------\u001b[0m",
      "\u001b[1;31mParser_Syntax_Error\u001b[0m                       Traceback (most recent call last)",
      "\u001b[1;32m~\\AppData\\Local\\Temp/ipykernel_11004/476530567.py\u001b[0m in \u001b[0;36m<module>\u001b[1;34m\u001b[0m\n\u001b[0;32m      3\u001b[0m \u001b[0mtokens3\u001b[0m \u001b[1;33m=\u001b[0m \u001b[0mlexer\u001b[0m\u001b[1;33m.\u001b[0m\u001b[0mmatch_tokens\u001b[0m\u001b[1;33m(\u001b[0m\u001b[0mchar_stream_3\u001b[0m\u001b[1;33m)\u001b[0m\u001b[1;33m\u001b[0m\u001b[1;33m\u001b[0m\u001b[0m\n\u001b[0;32m      4\u001b[0m \u001b[1;33m\u001b[0m\u001b[0m\n\u001b[1;32m----> 5\u001b[1;33m \u001b[0mBalance_Closures\u001b[0m\u001b[1;33m(\u001b[0m\u001b[0mtokens3\u001b[0m\u001b[1;33m)\u001b[0m\u001b[1;33m\u001b[0m\u001b[1;33m\u001b[0m\u001b[0m\n\u001b[0m\u001b[0;32m      6\u001b[0m \u001b[1;33m\u001b[0m\u001b[0m\n\u001b[0;32m      7\u001b[0m \u001b[1;31m### Expect error\u001b[0m\u001b[1;33m\u001b[0m\u001b[1;33m\u001b[0m\u001b[1;33m\u001b[0m\u001b[0m\n",
      "\u001b[1;32mc:\\Users\\jde314\\Documents\\CSC333\\Python\\Parser\\Balance_Closures.py\u001b[0m in \u001b[0;36mBalance_Closures\u001b[1;34m(tokens)\u001b[0m\n\u001b[0;32m     48\u001b[0m             \u001b[1;32mif\u001b[0m \u001b[0mstack_type\u001b[0m \u001b[1;33m==\u001b[0m \u001b[0mToken_Enum\u001b[0m\u001b[1;33m.\u001b[0m\u001b[0mClosures\u001b[0m\u001b[1;33m.\u001b[0m\u001b[0mCurly_Open\u001b[0m \u001b[1;32mand\u001b[0m\u001b[0;31m \u001b[0m\u001b[0;31m\\\u001b[0m\u001b[1;33m\u001b[0m\u001b[1;33m\u001b[0m\u001b[0m\n\u001b[0;32m     49\u001b[0m                     \u001b[0mtoken_type\u001b[0m \u001b[1;33m==\u001b[0m \u001b[0mToken_Enum\u001b[0m\u001b[1;33m.\u001b[0m\u001b[0mClosures\u001b[0m\u001b[1;33m.\u001b[0m\u001b[0mParen_Close\u001b[0m\u001b[1;33m:\u001b[0m\u001b[1;33m\u001b[0m\u001b[1;33m\u001b[0m\u001b[0m\n\u001b[1;32m---> 50\u001b[1;33m                 \u001b[1;32mraise\u001b[0m\u001b[1;33m(\u001b[0m\u001b[0mParser_Syntax_Error\u001b[0m\u001b[1;33m(\u001b[0m\u001b[1;34m\"SyntaxError: { cannot match with )\"\u001b[0m\u001b[1;33m)\u001b[0m\u001b[1;33m)\u001b[0m\u001b[1;33m\u001b[0m\u001b[1;33m\u001b[0m\u001b[0m\n\u001b[0m\u001b[0;32m     51\u001b[0m \u001b[1;33m\u001b[0m\u001b[0m\n\u001b[0;32m     52\u001b[0m             \u001b[1;32mif\u001b[0m \u001b[0mstack_type\u001b[0m \u001b[1;33m==\u001b[0m \u001b[0mToken_Enum\u001b[0m\u001b[1;33m.\u001b[0m\u001b[0mClosures\u001b[0m\u001b[1;33m.\u001b[0m\u001b[0mParen_Open\u001b[0m\u001b[1;33m:\u001b[0m\u001b[1;33m\u001b[0m\u001b[1;33m\u001b[0m\u001b[0m\n",
      "\u001b[1;31mParser_Syntax_Error\u001b[0m: SyntaxError: { cannot match with )"
     ]
    }
   ],
   "metadata": {}
  }
 ],
 "metadata": {
  "orig_nbformat": 4,
  "language_info": {
   "name": "python",
   "version": "3.7.8",
   "mimetype": "text/x-python",
   "codemirror_mode": {
    "name": "ipython",
    "version": 3
   },
   "pygments_lexer": "ipython3",
   "nbconvert_exporter": "python",
   "file_extension": ".py"
  },
  "kernelspec": {
   "name": "python3",
   "display_name": "Python 3.7.8 64-bit"
  },
  "interpreter": {
   "hash": "57baa5815c940fdaff4d14510622de9616cae602444507ba5d0b6727c008cbd6"
  }
 },
 "nbformat": 4,
 "nbformat_minor": 2
}