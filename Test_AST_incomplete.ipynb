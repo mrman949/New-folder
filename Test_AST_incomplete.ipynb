{
 "cells": [
  {
   "cell_type": "code",
   "execution_count": null,
   "source": [
    "from AST.AST_Nodes import *"
   ],
   "outputs": [],
   "metadata": {}
  },
  {
   "cell_type": "code",
   "execution_count": null,
   "source": [
    "class parent_class():\r\n",
    "    pass\r\n",
    "class child_class(parent_class):\r\n",
    "    pass\r\n",
    "\r\n",
    "print(\"isinstance(parent_class(), parent_class)\", isinstance(parent_class(), parent_class))\r\n",
    "print(\"isinstance(parent_class(), child_class)\", isinstance(parent_class(), child_class))\r\n",
    "print(\"isinstance(child_class(), parent_class)\", isinstance(child_class(), parent_class))\r\n",
    "print(\"isinstance(child_class(), child_class)\", isinstance(child_class(), child_class))"
   ],
   "outputs": [],
   "metadata": {}
  },
  {
   "cell_type": "code",
   "execution_count": null,
   "source": [
    "# class AST_Build_Error(BaseException):\r\n",
    "#     \"\"\"Exception raised for errors during the AST building process.\r\n",
    "\r\n",
    "#     Attributes:\r\n",
    "#         expression -- input expression in which the error occurred\r\n",
    "#         message -- explanation of the error\r\n",
    "#     \"\"\"\r\n",
    "\r\n",
    "#     def __init__(self, message: str) -> None:\r\n",
    "#         self.message = message\r\n",
    "\r\n",
    "# raise AST_Build_Error(\"test error\")"
   ],
   "outputs": [],
   "metadata": {}
  },
  {
   "cell_type": "code",
   "execution_count": null,
   "source": [
    "print(Type_Enum)"
   ],
   "outputs": [],
   "metadata": {}
  },
  {
   "cell_type": "code",
   "execution_count": null,
   "source": [
    "\"\"\"\r\n",
    "Problem 1:\r\n",
    "    9 + 7 * 3\r\n",
    "\"\"\"\r\n",
    "### Write AST code here:\r\n",
    "\r\n",
    "\r\n",
    "\r\n",
    "\r\n",
    "\r\n",
    "\r\n",
    "# d, ns = Abstract_Syntax_Tree( ??? ).walk()\r\n",
    "\r\n",
    "# print(d.get_value())\r\n",
    "# print(ns._name_space)"
   ],
   "outputs": [],
   "metadata": {}
  },
  {
   "cell_type": "code",
   "execution_count": null,
   "source": [
    "\"\"\"\r\n",
    "Problem 2:\r\n",
    "    x = 9\r\n",
    "    print(x)\r\n",
    "\"\"\"\r\n",
    "### Write AST code here:\r\n",
    "\r\n",
    "\r\n",
    "\r\n",
    "\r\n",
    "\r\n",
    "\r\n",
    "# d, ns = Abstract_Syntax_Tree( ??? ).walk()\r\n",
    "\r\n",
    "# print(d.get_value())\r\n",
    "# print(ns._name_space)"
   ],
   "outputs": [],
   "metadata": {}
  },
  {
   "cell_type": "code",
   "execution_count": null,
   "source": [
    "\"\"\"\r\n",
    "Problem 3:\r\n",
    "    x = 10 \r\n",
    "    y = 5 + x\r\n",
    "    print(y / x)\r\n",
    "\"\"\"\r\n",
    "### Write AST code here:\r\n",
    "\r\n",
    "\r\n",
    "\r\n",
    "\r\n",
    "\r\n",
    "\r\n",
    "# d, ns = Abstract_Syntax_Tree( ??? ).walk()\r\n",
    "\r\n",
    "# print(d.get_value())\r\n",
    "# print(ns._name_space)"
   ],
   "outputs": [],
   "metadata": {}
  },
  {
   "cell_type": "code",
   "execution_count": null,
   "source": [
    "\"\"\"\r\n",
    "Problem 4:\r\n",
    "    Write code with at least 3 numbers, 1 variable both used during an assignment statement and in an expression,\r\n",
    "        3 mathmatical operators, a block_list and the print statement.\r\n",
    "    Then build and run the AST for your code.\r\n",
    "\"\"\"\r\n",
    "### Write AST code here:\r\n",
    "\r\n",
    "\r\n",
    "\r\n",
    "\r\n",
    "\r\n",
    "\r\n",
    "# d, ns = Abstract_Syntax_Tree( ??? ).walk()\r\n",
    "\r\n",
    "# print(d.get_value())\r\n",
    "# print(ns._name_space)"
   ],
   "outputs": [],
   "metadata": {}
  }
 ],
 "metadata": {
  "orig_nbformat": 4,
  "language_info": {
   "name": "python",
   "version": "3.8.3",
   "mimetype": "text/x-python",
   "codemirror_mode": {
    "name": "ipython",
    "version": 3
   },
   "pygments_lexer": "ipython3",
   "nbconvert_exporter": "python",
   "file_extension": ".py"
  },
  "kernelspec": {
   "name": "python3",
   "display_name": "Python 3.8.3 64-bit ('base': conda)"
  },
  "interpreter": {
   "hash": "ff01ba64261f8397de0ac8a48cd5dfe75e6486a52ad79bcd26ac16ede9d241b1"
  }
 },
 "nbformat": 4,
 "nbformat_minor": 2
}