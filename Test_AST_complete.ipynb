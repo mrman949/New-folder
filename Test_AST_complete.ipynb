{
 "cells": [
  {
   "cell_type": "code",
   "execution_count": 1,
   "metadata": {},
   "outputs": [],
   "source": [
    "from AST.AST_Nodes import *"
   ]
  },
  {
   "cell_type": "code",
   "execution_count": 2,
   "metadata": {},
   "outputs": [
    {
     "name": "stdout",
     "output_type": "stream",
     "text": [
      "isinstance(parent_class(), parent_class) True\n",
      "isinstance(parent_class(), child_class) False\n",
      "isinstance(child_class(), parent_class) True\n",
      "isinstance(child_class(), child_class) True\n"
     ]
    }
   ],
   "source": [
    "class parent_class():\n",
    "    pass\n",
    "class child_class(parent_class):\n",
    "    pass\n",
    "\n",
    "print(\"isinstance(parent_class(), parent_class)\", isinstance(parent_class(), parent_class))\n",
    "print(\"isinstance(parent_class(), child_class)\", isinstance(parent_class(), child_class))\n",
    "print(\"isinstance(child_class(), parent_class)\", isinstance(child_class(), parent_class))\n",
    "print(\"isinstance(child_class(), child_class)\", isinstance(child_class(), child_class))"
   ]
  },
  {
   "cell_type": "code",
   "execution_count": 3,
   "metadata": {},
   "outputs": [],
   "source": [
    "# class AST_Build_Error(BaseException):\n",
    "#     \"\"\"Exception raised for errors during the AST building process.\n",
    "\n",
    "#     Attributes:\n",
    "#         expression -- input expression in which the error occurred\n",
    "#         message -- explanation of the error\n",
    "#     \"\"\"\n",
    "\n",
    "#     def __init__(self, message: str) -> None:\n",
    "#         self.message = message\n",
    "\n",
    "# raise AST_Build_Error(\"test error\")"
   ]
  },
  {
   "cell_type": "code",
   "execution_count": 4,
   "metadata": {},
   "outputs": [
    {
     "name": "stdout",
     "output_type": "stream",
     "text": [
      "{'undefined': 0, 'int': 1, 'float': 2, 'bool': 3, 'str': 4}\n"
     ]
    }
   ],
   "source": [
    "print(Type_Enum)"
   ]
  },
  {
   "cell_type": "code",
   "execution_count": 5,
   "metadata": {},
   "outputs": [
    {
     "name": "stdout",
     "output_type": "stream",
     "text": [
      "30\n",
      "{}\n"
     ]
    }
   ],
   "source": [
    "\"\"\"\n",
    "    9 + 7 * 3\n",
    "\"\"\"\n",
    "\n",
    "lit_9 = AST_Literal(9,Type_Enum.int)\n",
    "lit_7 = AST_Literal(7,Type_Enum.int)\n",
    "lit_3 = AST_Literal(3,Type_Enum.int)\n",
    "\n",
    "exp1 = AST_Expression_Multiplication()\n",
    "exp1.affix_nodes(lit_7, lit_3)\n",
    "\n",
    "exp2 = AST_Expression_Addition()\n",
    "exp2.affix_nodes(lit_9, exp1)\n",
    "\n",
    "d, ns = Abstract_Syntax_Tree(exp2).walk()\n",
    "\n",
    "print(d.get_value())\n",
    "print(ns._name_space)"
   ]
  },
  {
   "cell_type": "code",
   "execution_count": 6,
   "metadata": {},
   "outputs": [
    {
     "name": "stdout",
     "output_type": "stream",
     "text": [
      "AST_Print: type: 1  value: 9\n",
      "None\n",
      "{'x': {'_value': 9, '_type': 1, '_name': 'x'}}\n"
     ]
    }
   ],
   "source": [
    "\"\"\" \n",
    "    x = 9\n",
    "    print(x)\n",
    "\"\"\"\n",
    "\n",
    "lit_9 = AST_Literal(9,Type_Enum.int)\n",
    "iden_x = AST_Identifier(\"x\")\n",
    "\n",
    "asn1 = AST_Statement_Assignment()\n",
    "asn1.affix_nodes(iden_x, lit_9)\n",
    "\n",
    "iden_x_2 = AST_Identifier(\"x\")\n",
    "pnt1 = AST_Function_Print()\n",
    "pnt1.affix_nodes(iden_x_2)\n",
    "\n",
    "blst1 = AST_Block_List()\n",
    "blst1.affix_nodes(asn1,pnt1)\n",
    "\n",
    "d, ns = Abstract_Syntax_Tree(blst1).walk()\n",
    "\n",
    "print(d.get_value())\n",
    "print(ns._name_space)"
   ]
  },
  {
   "cell_type": "code",
   "execution_count": 7,
   "metadata": {},
   "outputs": [
    {
     "name": "stdout",
     "output_type": "stream",
     "text": [
      "AST_Print: type: 2  value: 1.5\n",
      "None\n",
      "{'x': {'_value': 10, '_type': 1, '_name': 'x'}, 'y': {'_value': 15, '_type': 1, '_name': 'y'}}\n"
     ]
    }
   ],
   "source": [
    "\"\"\" \n",
    "    x = 10 \n",
    "    y = 5 + x\n",
    "    print(y / x)\n",
    "\"\"\"\n",
    "\n",
    "iden1 = AST_Identifier(\"x\")\n",
    "asn1 = AST_Statement_Assignment()\n",
    "lit1 = AST_Literal(10 , Type_Enum.int)\n",
    "\n",
    "asn1.affix_nodes(iden1, lit1)\n",
    "\n",
    "\n",
    "\n",
    "iden2 = AST_Identifier(\"y\")\n",
    "asn2 = AST_Statement_Assignment()\n",
    "lit2 = AST_Literal(5, Type_Enum.int)\n",
    "exp1 = AST_Expression_Addition()\n",
    "iden3 = AST_Identifier(\"x\")\n",
    "\n",
    "exp1.affix_nodes(lit2, iden3)\n",
    "\n",
    "asn2.affix_nodes(iden2, exp1)\n",
    "\n",
    "\n",
    "\n",
    "prnt1 = AST_Function_Print()\n",
    "iden4 = AST_Identifier(\"y\")\n",
    "exp2 = AST_Expression_Division()\n",
    "iden5 = AST_Identifier(\"x\")\n",
    "\n",
    "exp2.affix_nodes(iden4, iden5)\n",
    "\n",
    "prnt1.affix_nodes(exp2)\n",
    "\n",
    "\n",
    "\n",
    "blst1 = AST_Block_List()\n",
    "blst2 = AST_Block_List()\n",
    "\n",
    "blst2.affix_nodes(asn1, asn2)\n",
    "blst1.affix_nodes(blst2, prnt1)\n",
    "\n",
    "\n",
    "\n",
    "ast = Abstract_Syntax_Tree(exp2)\n",
    "\n",
    "d, ns = Abstract_Syntax_Tree(blst1).walk()\n",
    "\n",
    "print(d.get_value())\n",
    "print(ns._name_space)"
   ]
  },
  {
   "cell_type": "code",
   "execution_count": null,
   "metadata": {},
   "outputs": [],
   "source": []
  }
 ],
 "metadata": {
  "interpreter": {
   "hash": "57baa5815c940fdaff4d14510622de9616cae602444507ba5d0b6727c008cbd6"
  },
  "kernelspec": {
   "display_name": "Python 3.7.8 64-bit",
   "name": "python3"
  },
  "language_info": {
   "codemirror_mode": {
    "name": "ipython",
    "version": 3
   },
   "file_extension": ".py",
   "mimetype": "text/x-python",
   "name": "python",
   "nbconvert_exporter": "python",
   "pygments_lexer": "ipython3",
   "version": "3.7.8"
  },
  "orig_nbformat": 4
 },
 "nbformat": 4,
 "nbformat_minor": 2
}
