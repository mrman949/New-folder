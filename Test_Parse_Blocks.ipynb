{
 "cells": [
  {
   "cell_type": "code",
   "execution_count": 1,
   "source": [
    "from Lexer.Lexer import Lexer\r\n",
    "from Parser.Parse_Blocks import Parse_Blocks\r\n",
    "from AST.AST_Nodes import Abstract_Syntax_Tree"
   ],
   "outputs": [],
   "metadata": {}
  },
  {
   "cell_type": "code",
   "execution_count": 2,
   "source": [
    "lexer = Lexer()"
   ],
   "outputs": [],
   "metadata": {}
  },
  {
   "cell_type": "code",
   "execution_count": 3,
   "source": [
    "char_stream_2 = \"\"\"\r\n",
    "i = 42;\r\n",
    "j = 35;\r\n",
    "while (i != j){\r\n",
    "    if (i > j){\r\n",
    "        i = i - j;\r\n",
    "    } else {\r\n",
    "        j = j - i;\r\n",
    "    };\r\n",
    "};\r\n",
    "print(\"i is equal to\");\r\n",
    "print(i);\r\n",
    "\"\"\"\r\n",
    "\r\n",
    "tokens2 = lexer.match_tokens(char_stream_2)\r\n",
    "\r\n",
    "root = Parse_Blocks(tokens2)\r\n",
    "\r\n",
    "d, ns = Abstract_Syntax_Tree(root).walk()\r\n",
    "\r\n",
    "print(d.get_value())\r\n",
    "print(ns._name_space)"
   ],
   "outputs": [
    {
     "output_type": "stream",
     "name": "stdout",
     "text": [
      "[Token(type: iden, string: i), Token(type: =, string: =), Token(type: int, string: 42), Token(type: ;, string: ;)] \n",
      "\n",
      "[Token(type: iden, string: j), Token(type: =, string: =), Token(type: int, string: 35), Token(type: ;, string: ;)] \n",
      "\n",
      "[Token(type: iden, string: While), Token(type: (, string: (), Token(type: iden, string: i), Token(type: !=, string: !=), Token(type: iden, string: j), Token(type: ), string: )), Token(type: {, string: {), Token(type: if, string: if), Token(type: (, string: (), Token(type: iden, string: i), Token(type: >, string: >), Token(type: iden, string: j), Token(type: ), string: )), Token(type: {, string: {), Token(type: iden, string: i), Token(type: =, string: =), Token(type: iden, string: i), Token(type: -, string: -), Token(type: iden, string: j), Token(type: ;, string: ;), Token(type: }, string: }), Token(type: else, string: else), Token(type: {, string: {), Token(type: iden, string: j), Token(type: =, string: =), Token(type: iden, string: j), Token(type: -, string: -), Token(type: iden, string: i), Token(type: ;, string: ;), Token(type: }, string: }), Token(type: ;, string: ;), Token(type: }, string: }), Token(type: ;, string: ;)] \n",
      "\n",
      "[Token(type: print, string: print), Token(type: (, string: (), Token(type: string, string: i is equal to), Token(type: ), string: )), Token(type: ;, string: ;)] \n",
      "\n",
      "[Token(type: print, string: print), Token(type: (, string: (), Token(type: iden, string: i), Token(type: ), string: )), Token(type: ;, string: ;)] \n",
      "\n"
     ]
    },
    {
     "output_type": "error",
     "ename": "AST_Build_Error",
     "evalue": "<class 'AST.AST_Nodes.AST_Block_List'>: Wrong types of affixed nodes. Expected [<class 'AST.AST_Nodes.AST_Block_List'>, <class 'AST.AST_Nodes.AST_Statement'>], got [<class 'AST.AST_Nodes.AST_Block_List'>, <class 'type'>]",
     "traceback": [
      "\u001b[1;31m---------------------------------------------------------------------------\u001b[0m",
      "\u001b[1;31mAST_Build_Error\u001b[0m                           Traceback (most recent call last)",
      "\u001b[1;32m~\\AppData\\Local\\Temp/ipykernel_5016/490565739.py\u001b[0m in \u001b[0;36m<module>\u001b[1;34m\u001b[0m\n\u001b[0;32m     15\u001b[0m \u001b[0mtokens2\u001b[0m \u001b[1;33m=\u001b[0m \u001b[0mlexer\u001b[0m\u001b[1;33m.\u001b[0m\u001b[0mmatch_tokens\u001b[0m\u001b[1;33m(\u001b[0m\u001b[0mchar_stream_2\u001b[0m\u001b[1;33m)\u001b[0m\u001b[1;33m\u001b[0m\u001b[1;33m\u001b[0m\u001b[0m\n\u001b[0;32m     16\u001b[0m \u001b[1;33m\u001b[0m\u001b[0m\n\u001b[1;32m---> 17\u001b[1;33m \u001b[0mroot\u001b[0m \u001b[1;33m=\u001b[0m \u001b[0mParse_Blocks\u001b[0m\u001b[1;33m(\u001b[0m\u001b[0mtokens2\u001b[0m\u001b[1;33m)\u001b[0m\u001b[1;33m\u001b[0m\u001b[1;33m\u001b[0m\u001b[0m\n\u001b[0m\u001b[0;32m     18\u001b[0m \u001b[1;33m\u001b[0m\u001b[0m\n\u001b[0;32m     19\u001b[0m \u001b[0md\u001b[0m\u001b[1;33m,\u001b[0m \u001b[0mns\u001b[0m \u001b[1;33m=\u001b[0m \u001b[0mAbstract_Syntax_Tree\u001b[0m\u001b[1;33m(\u001b[0m\u001b[0mroot\u001b[0m\u001b[1;33m)\u001b[0m\u001b[1;33m.\u001b[0m\u001b[0mwalk\u001b[0m\u001b[1;33m(\u001b[0m\u001b[1;33m)\u001b[0m\u001b[1;33m\u001b[0m\u001b[1;33m\u001b[0m\u001b[0m\n",
      "\u001b[1;32mc:\\Users\\tre7640\\OneDrive - Missouri State University\\Attachments\\Lexemes_School_REPO\\New folder\\Parser\\Parse_Blocks.py\u001b[0m in \u001b[0;36mParse_Blocks\u001b[1;34m(tokens)\u001b[0m\n\u001b[0;32m    238\u001b[0m         \u001b[1;32mif\u001b[0m \u001b[0mlen\u001b[0m\u001b[1;33m(\u001b[0m\u001b[0mstack\u001b[0m\u001b[1;33m)\u001b[0m \u001b[1;33m>\u001b[0m \u001b[1;36m1\u001b[0m\u001b[1;33m:\u001b[0m\u001b[1;33m\u001b[0m\u001b[1;33m\u001b[0m\u001b[0m\n\u001b[0;32m    239\u001b[0m             \u001b[0mnext_block_list\u001b[0m \u001b[1;33m=\u001b[0m \u001b[0mAST_Block_List\u001b[0m\u001b[1;33m(\u001b[0m\u001b[1;33m)\u001b[0m\u001b[1;33m\u001b[0m\u001b[1;33m\u001b[0m\u001b[0m\n\u001b[1;32m--> 240\u001b[1;33m             \u001b[0mlast_block_list\u001b[0m\u001b[1;33m.\u001b[0m\u001b[0maffix_nodes\u001b[0m\u001b[1;33m(\u001b[0m\u001b[0mnext_block_list\u001b[0m\u001b[1;33m,\u001b[0m \u001b[0mnext_statement_node\u001b[0m\u001b[1;33m)\u001b[0m\u001b[1;33m\u001b[0m\u001b[1;33m\u001b[0m\u001b[0m\n\u001b[0m\u001b[0;32m    241\u001b[0m \u001b[1;33m\u001b[0m\u001b[0m\n\u001b[0;32m    242\u001b[0m         \u001b[1;32melse\u001b[0m\u001b[1;33m:\u001b[0m\u001b[1;33m\u001b[0m\u001b[1;33m\u001b[0m\u001b[0m\n",
      "\u001b[1;32mc:\\Users\\tre7640\\OneDrive - Missouri State University\\Attachments\\Lexemes_School_REPO\\New folder\\AST\\AST_Nodes.py\u001b[0m in \u001b[0;36maffix_nodes\u001b[1;34m(self, block_list_top, statement_bot)\u001b[0m\n\u001b[0;32m    177\u001b[0m     \u001b[1;32mdef\u001b[0m \u001b[0maffix_nodes\u001b[0m\u001b[1;33m(\u001b[0m\u001b[0mself\u001b[0m\u001b[1;33m,\u001b[0m \u001b[0mblock_list_top\u001b[0m\u001b[1;33m:\u001b[0m \u001b[0mAST_Block_List\u001b[0m\u001b[1;33m,\u001b[0m \u001b[0mstatement_bot\u001b[0m\u001b[1;33m:\u001b[0m \u001b[0mAST_Statement\u001b[0m\u001b[1;33m)\u001b[0m \u001b[1;33m->\u001b[0m \u001b[1;32mNone\u001b[0m\u001b[1;33m:\u001b[0m\u001b[1;33m\u001b[0m\u001b[1;33m\u001b[0m\u001b[0m\n\u001b[0;32m    178\u001b[0m         \u001b[0mself\u001b[0m\u001b[1;33m.\u001b[0m\u001b[0m_affixed_nodes\u001b[0m \u001b[1;33m=\u001b[0m \u001b[1;33m[\u001b[0m\u001b[0mblock_list_top\u001b[0m\u001b[1;33m,\u001b[0m \u001b[0mstatement_bot\u001b[0m\u001b[1;33m]\u001b[0m\u001b[1;33m\u001b[0m\u001b[1;33m\u001b[0m\u001b[0m\n\u001b[1;32m--> 179\u001b[1;33m         \u001b[0mself\u001b[0m\u001b[1;33m.\u001b[0m\u001b[0mverify_node\u001b[0m\u001b[1;33m(\u001b[0m\u001b[1;33m)\u001b[0m\u001b[1;33m\u001b[0m\u001b[1;33m\u001b[0m\u001b[0m\n\u001b[0m\u001b[0;32m    180\u001b[0m \u001b[1;33m\u001b[0m\u001b[0m\n\u001b[0;32m    181\u001b[0m     \u001b[1;32mdef\u001b[0m \u001b[0mwalk\u001b[0m\u001b[1;33m(\u001b[0m\u001b[0mself\u001b[0m\u001b[1;33m,\u001b[0m \u001b[0mname_space\u001b[0m\u001b[1;33m:\u001b[0m \u001b[0mName_Space\u001b[0m\u001b[1;33m)\u001b[0m \u001b[1;33m->\u001b[0m \u001b[0mAST_Data\u001b[0m\u001b[1;33m:\u001b[0m\u001b[1;33m\u001b[0m\u001b[1;33m\u001b[0m\u001b[0m\n",
      "\u001b[1;32mc:\\Users\\tre7640\\OneDrive - Missouri State University\\Attachments\\Lexemes_School_REPO\\New folder\\AST\\AST_Nodes.py\u001b[0m in \u001b[0;36mverify_node\u001b[1;34m(self)\u001b[0m\n\u001b[0;32m    143\u001b[0m             \u001b[1;32mraise\u001b[0m \u001b[0mAST_Build_Error\u001b[0m\u001b[1;33m(\u001b[0m\u001b[1;34m\"{}: Wrong number of affixed nodes. Expected {}, got {}\"\u001b[0m\u001b[1;33m.\u001b[0m\u001b[0mformat\u001b[0m\u001b[1;33m(\u001b[0m\u001b[0mtype\u001b[0m\u001b[1;33m(\u001b[0m\u001b[0mself\u001b[0m\u001b[1;33m)\u001b[0m\u001b[1;33m,\u001b[0m \u001b[0mlen\u001b[0m\u001b[1;33m(\u001b[0m\u001b[0mself\u001b[0m\u001b[1;33m.\u001b[0m\u001b[0m_expected_nodes\u001b[0m\u001b[1;33m)\u001b[0m\u001b[1;33m,\u001b[0m \u001b[0mlen\u001b[0m\u001b[1;33m(\u001b[0m\u001b[0mself\u001b[0m\u001b[1;33m.\u001b[0m\u001b[0m_affixed_nodes\u001b[0m\u001b[1;33m)\u001b[0m\u001b[1;33m)\u001b[0m\u001b[1;33m)\u001b[0m\u001b[1;33m\u001b[0m\u001b[1;33m\u001b[0m\u001b[0m\n\u001b[0;32m    144\u001b[0m         \u001b[1;32mif\u001b[0m \u001b[1;32mFalse\u001b[0m \u001b[1;32min\u001b[0m \u001b[1;33m[\u001b[0m\u001b[0misinstance\u001b[0m\u001b[1;33m(\u001b[0m\u001b[0ma\u001b[0m\u001b[1;33m,\u001b[0m\u001b[0mb\u001b[0m\u001b[1;33m)\u001b[0m \u001b[1;32mfor\u001b[0m \u001b[0ma\u001b[0m\u001b[1;33m,\u001b[0m\u001b[0mb\u001b[0m \u001b[1;32min\u001b[0m \u001b[0mzip\u001b[0m\u001b[1;33m(\u001b[0m\u001b[0mself\u001b[0m\u001b[1;33m.\u001b[0m\u001b[0m_affixed_nodes\u001b[0m\u001b[1;33m,\u001b[0m \u001b[0mself\u001b[0m\u001b[1;33m.\u001b[0m\u001b[0m_expected_nodes\u001b[0m\u001b[1;33m)\u001b[0m\u001b[1;33m]\u001b[0m\u001b[1;33m:\u001b[0m\u001b[1;33m\u001b[0m\u001b[1;33m\u001b[0m\u001b[0m\n\u001b[1;32m--> 145\u001b[1;33m             \u001b[1;32mraise\u001b[0m \u001b[0mAST_Build_Error\u001b[0m\u001b[1;33m(\u001b[0m\u001b[1;34m\"{}: Wrong types of affixed nodes. Expected {}, got {}\"\u001b[0m\u001b[1;33m.\u001b[0m\u001b[0mformat\u001b[0m\u001b[1;33m(\u001b[0m\u001b[0mtype\u001b[0m\u001b[1;33m(\u001b[0m\u001b[0mself\u001b[0m\u001b[1;33m)\u001b[0m\u001b[1;33m,\u001b[0m \u001b[0mself\u001b[0m\u001b[1;33m.\u001b[0m\u001b[0m_expected_nodes\u001b[0m\u001b[1;33m,\u001b[0m \u001b[1;33m[\u001b[0m\u001b[0mtype\u001b[0m\u001b[1;33m(\u001b[0m\u001b[0ma\u001b[0m\u001b[1;33m)\u001b[0m \u001b[1;32mfor\u001b[0m \u001b[0ma\u001b[0m \u001b[1;32min\u001b[0m \u001b[0mself\u001b[0m\u001b[1;33m.\u001b[0m\u001b[0m_affixed_nodes\u001b[0m\u001b[1;33m]\u001b[0m\u001b[1;33m)\u001b[0m\u001b[1;33m)\u001b[0m\u001b[1;33m\u001b[0m\u001b[1;33m\u001b[0m\u001b[0m\n\u001b[0m\u001b[0;32m    146\u001b[0m \u001b[1;33m\u001b[0m\u001b[0m\n\u001b[0;32m    147\u001b[0m     \u001b[1;32mdef\u001b[0m \u001b[0mwalk\u001b[0m\u001b[1;33m(\u001b[0m\u001b[0mself\u001b[0m\u001b[1;33m,\u001b[0m \u001b[0mname_space\u001b[0m\u001b[1;33m:\u001b[0m \u001b[0mName_Space\u001b[0m\u001b[1;33m)\u001b[0m \u001b[1;33m->\u001b[0m \u001b[0mAST_Data\u001b[0m\u001b[1;33m:\u001b[0m\u001b[1;33m\u001b[0m\u001b[1;33m\u001b[0m\u001b[0m\n",
      "\u001b[1;31mAST_Build_Error\u001b[0m: <class 'AST.AST_Nodes.AST_Block_List'>: Wrong types of affixed nodes. Expected [<class 'AST.AST_Nodes.AST_Block_List'>, <class 'AST.AST_Nodes.AST_Statement'>], got [<class 'AST.AST_Nodes.AST_Block_List'>, <class 'type'>]"
     ]
    }
   ],
   "metadata": {}
  },
  {
   "cell_type": "code",
   "execution_count": null,
   "source": [],
   "outputs": [],
   "metadata": {}
  }
 ],
 "metadata": {
  "interpreter": {
   "hash": "57baa5815c940fdaff4d14510622de9616cae602444507ba5d0b6727c008cbd6"
  },
  "kernelspec": {
   "name": "python3",
   "display_name": "Python 3.7.8 64-bit"
  },
  "language_info": {
   "codemirror_mode": {
    "name": "ipython",
    "version": 3
   },
   "file_extension": ".py",
   "mimetype": "text/x-python",
   "name": "python",
   "nbconvert_exporter": "python",
   "pygments_lexer": "ipython3",
   "version": "3.7.8"
  },
  "orig_nbformat": 4
 },
 "nbformat": 4,
 "nbformat_minor": 2
}