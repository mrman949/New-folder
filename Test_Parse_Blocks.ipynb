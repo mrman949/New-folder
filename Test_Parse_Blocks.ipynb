{
 "cells": [
  {
   "cell_type": "code",
   "execution_count": 4,
   "source": [
    "from Lexer.Lexer import Lexer\r\n",
    "from Parser.Parse_Blocks import Parse_Blocks\r\n",
    "from AST.AST_Nodes import Abstract_Syntax_Tree"
   ],
   "outputs": [],
   "metadata": {}
  },
  {
   "cell_type": "code",
   "execution_count": 5,
   "source": [
    "lexer = Lexer()"
   ],
   "outputs": [],
   "metadata": {}
  },
  {
   "cell_type": "code",
   "execution_count": 6,
   "source": [
    "char_stream_2 = \"\"\"\r\n",
    "i = 42;\r\n",
    "j = 35;\r\n",
    "while (i != j){\r\n",
    "    if (i > j){\r\n",
    "        i = i - j;\r\n",
    "    } else {\r\n",
    "        j = j - i;\r\n",
    "    };\r\n",
    "};\r\n",
    "print(\"i is equal to\");\r\n",
    "print(i);\r\n",
    "\"\"\"\r\n",
    "\r\n",
    "tokens2 = lexer.match_tokens(char_stream_2)\r\n",
    "\r\n",
    "root = Parse_Blocks(tokens2)\r\n",
    "\r\n",
    "d, ns = Abstract_Syntax_Tree(root).walk()\r\n",
    "\r\n",
    "print(d.get_value())\r\n",
    "print(ns._name_space)"
   ],
   "outputs": [
    {
     "output_type": "stream",
     "name": "stdout",
     "text": [
      "[Token(type: iden, string: i), Token(type: =, string: =), Token(type: int, string: 42), Token(type: ;, string: ;)] \n",
      "\n",
      "[Token(type: iden, string: j), Token(type: =, string: =), Token(type: int, string: 35), Token(type: ;, string: ;)] \n",
      "\n"
     ]
    },
    {
     "output_type": "error",
     "ename": "Parser_Syntax_Error",
     "evalue": "Reached EOF before matching closure could be found",
     "traceback": [
      "\u001b[1;31m---------------------------------------------------------------------------\u001b[0m",
      "\u001b[1;31mParser_Syntax_Error\u001b[0m                       Traceback (most recent call last)",
      "\u001b[1;32m~\\AppData\\Local\\Temp/ipykernel_11472/746454118.py\u001b[0m in \u001b[0;36m<module>\u001b[1;34m\u001b[0m\n\u001b[0;32m     15\u001b[0m \u001b[0mtokens2\u001b[0m \u001b[1;33m=\u001b[0m \u001b[0mlexer\u001b[0m\u001b[1;33m.\u001b[0m\u001b[0mmatch_tokens\u001b[0m\u001b[1;33m(\u001b[0m\u001b[0mchar_stream_2\u001b[0m\u001b[1;33m)\u001b[0m\u001b[1;33m\u001b[0m\u001b[1;33m\u001b[0m\u001b[0m\n\u001b[0;32m     16\u001b[0m \u001b[1;33m\u001b[0m\u001b[0m\n\u001b[1;32m---> 17\u001b[1;33m \u001b[0mroot\u001b[0m \u001b[1;33m=\u001b[0m \u001b[0mParse_Blocks\u001b[0m\u001b[1;33m(\u001b[0m\u001b[0mtokens2\u001b[0m\u001b[1;33m)\u001b[0m\u001b[1;33m\u001b[0m\u001b[1;33m\u001b[0m\u001b[0m\n\u001b[0m\u001b[0;32m     18\u001b[0m \u001b[1;33m\u001b[0m\u001b[0m\n\u001b[0;32m     19\u001b[0m \u001b[0md\u001b[0m\u001b[1;33m,\u001b[0m \u001b[0mns\u001b[0m \u001b[1;33m=\u001b[0m \u001b[0mAbstract_Syntax_Tree\u001b[0m\u001b[1;33m(\u001b[0m\u001b[0mroot\u001b[0m\u001b[1;33m)\u001b[0m\u001b[1;33m.\u001b[0m\u001b[0mwalk\u001b[0m\u001b[1;33m(\u001b[0m\u001b[1;33m)\u001b[0m\u001b[1;33m\u001b[0m\u001b[1;33m\u001b[0m\u001b[0m\n",
      "\u001b[1;32mc:\\Users\\tre7640\\OneDrive - Missouri State University\\Attachments\\Lexemes_School_REPO\\New folder\\Parser\\Parse_Blocks.py\u001b[0m in \u001b[0;36mParse_Blocks\u001b[1;34m(tokens)\u001b[0m\n\u001b[0;32m    167\u001b[0m     \u001b[1;32mwhile\u001b[0m \u001b[0mtokens\u001b[0m\u001b[1;33m:\u001b[0m\u001b[1;33m\u001b[0m\u001b[1;33m\u001b[0m\u001b[0m\n\u001b[0;32m    168\u001b[0m         \u001b[0mnext_statement_tokens\u001b[0m \u001b[1;33m=\u001b[0m \u001b[0mfind_next_statement\u001b[0m\u001b[1;33m(\u001b[0m\u001b[0mtokens\u001b[0m\u001b[1;33m)\u001b[0m\u001b[1;33m\u001b[0m\u001b[1;33m\u001b[0m\u001b[0m\n\u001b[1;32m--> 169\u001b[1;33m         \u001b[0mnext_statement_node\u001b[0m \u001b[1;33m=\u001b[0m \u001b[0mParse_Statement\u001b[0m\u001b[1;33m(\u001b[0m\u001b[0mnext_statement_tokens\u001b[0m\u001b[1;33m)\u001b[0m\u001b[1;33m\u001b[0m\u001b[1;33m\u001b[0m\u001b[0m\n\u001b[0m\u001b[0;32m    170\u001b[0m \u001b[1;33m\u001b[0m\u001b[0m\n\u001b[0;32m    171\u001b[0m         \u001b[1;31m### TEMP CODE\u001b[0m\u001b[1;33m\u001b[0m\u001b[1;33m\u001b[0m\u001b[1;33m\u001b[0m\u001b[0m\n",
      "\u001b[1;32mc:\\Users\\tre7640\\OneDrive - Missouri State University\\Attachments\\Lexemes_School_REPO\\New folder\\Parser\\Parse_Blocks.py\u001b[0m in \u001b[0;36mParse_Statement\u001b[1;34m(tokens)\u001b[0m\n\u001b[0;32m    138\u001b[0m             \u001b[1;32mraise\u001b[0m\u001b[1;33m(\u001b[0m\u001b[0mParser_Syntax_Error\u001b[0m\u001b[1;33m(\u001b[0m\u001b[1;34m\"Expected ( enclosing condition after while token \"\u001b[0m\u001b[1;33m)\u001b[0m\u001b[1;33m)\u001b[0m\u001b[1;33m\u001b[0m\u001b[1;33m\u001b[0m\u001b[0m\n\u001b[0;32m    139\u001b[0m \u001b[1;33m\u001b[0m\u001b[0m\n\u001b[1;32m--> 140\u001b[1;33m         \u001b[0mclosure_tokens\u001b[0m \u001b[1;33m=\u001b[0m \u001b[0mfind_closure_tokens\u001b[0m\u001b[1;33m(\u001b[0m\u001b[0mtokens\u001b[0m\u001b[1;33m)\u001b[0m\u001b[1;31m# List of tokens\u001b[0m\u001b[1;33m\u001b[0m\u001b[1;33m\u001b[0m\u001b[0m\n\u001b[0m\u001b[0;32m    141\u001b[0m         \u001b[0mcondition\u001b[0m \u001b[1;33m=\u001b[0m \u001b[0mParse_Expression\u001b[0m\u001b[1;33m(\u001b[0m\u001b[0mclosure_tokens\u001b[0m\u001b[1;33m[\u001b[0m\u001b[1;36m1\u001b[0m\u001b[1;33m:\u001b[0m\u001b[1;33m-\u001b[0m\u001b[1;36m1\u001b[0m\u001b[1;33m]\u001b[0m\u001b[1;33m)\u001b[0m\u001b[1;31m# AST_Expression\u001b[0m\u001b[1;33m\u001b[0m\u001b[1;33m\u001b[0m\u001b[0m\n\u001b[0;32m    142\u001b[0m         \u001b[1;32mif\u001b[0m \u001b[0mtokens\u001b[0m\u001b[1;33m[\u001b[0m\u001b[1;36m0\u001b[0m\u001b[1;33m]\u001b[0m\u001b[1;33m.\u001b[0m\u001b[0mget_type\u001b[0m\u001b[1;33m(\u001b[0m\u001b[1;33m)\u001b[0m \u001b[1;33m!=\u001b[0m \u001b[0mToken_Enum\u001b[0m\u001b[1;33m.\u001b[0m\u001b[0mClosures\u001b[0m\u001b[1;33m.\u001b[0m\u001b[0mParen_Open\u001b[0m\u001b[1;33m:\u001b[0m\u001b[1;33m\u001b[0m\u001b[1;33m\u001b[0m\u001b[0m\n",
      "\u001b[1;32mc:\\Users\\tre7640\\OneDrive - Missouri State University\\Attachments\\Lexemes_School_REPO\\New folder\\Parser\\Parse_Blocks.py\u001b[0m in \u001b[0;36mfind_closure_tokens\u001b[1;34m(tokens)\u001b[0m\n\u001b[0;32m     53\u001b[0m             \u001b[1;32mbreak\u001b[0m\u001b[1;33m\u001b[0m\u001b[1;33m\u001b[0m\u001b[0m\n\u001b[0;32m     54\u001b[0m     \u001b[1;32mif\u001b[0m \u001b[1;32mnot\u001b[0m \u001b[0mclosure_stack\u001b[0m\u001b[1;33m:\u001b[0m\u001b[1;33m\u001b[0m\u001b[1;33m\u001b[0m\u001b[0m\n\u001b[1;32m---> 55\u001b[1;33m         \u001b[1;32mraise\u001b[0m\u001b[1;33m(\u001b[0m\u001b[0mParser_Syntax_Error\u001b[0m\u001b[1;33m(\u001b[0m\u001b[1;34m\"Reached EOF before matching closure could be found\"\u001b[0m\u001b[1;33m)\u001b[0m\u001b[1;33m)\u001b[0m\u001b[1;33m\u001b[0m\u001b[1;33m\u001b[0m\u001b[0m\n\u001b[0m\u001b[0;32m     56\u001b[0m     \u001b[1;32mreturn\u001b[0m \u001b[0mclosure_tokens\u001b[0m\u001b[1;33m\u001b[0m\u001b[1;33m\u001b[0m\u001b[0m\n\u001b[0;32m     57\u001b[0m \u001b[1;33m\u001b[0m\u001b[0m\n",
      "\u001b[1;31mParser_Syntax_Error\u001b[0m: Reached EOF before matching closure could be found"
     ]
    }
   ],
   "metadata": {}
  },
  {
   "cell_type": "code",
   "execution_count": null,
   "source": [],
   "outputs": [],
   "metadata": {}
  }
 ],
 "metadata": {
  "interpreter": {
   "hash": "57baa5815c940fdaff4d14510622de9616cae602444507ba5d0b6727c008cbd6"
  },
  "kernelspec": {
   "name": "python3",
   "display_name": "Python 3.7.8 64-bit"
  },
  "language_info": {
   "codemirror_mode": {
    "name": "ipython",
    "version": 3
   },
   "file_extension": ".py",
   "mimetype": "text/x-python",
   "name": "python",
   "nbconvert_exporter": "python",
   "pygments_lexer": "ipython3",
   "version": "3.7.8"
  },
  "orig_nbformat": 4
 },
 "nbformat": 4,
 "nbformat_minor": 2
}